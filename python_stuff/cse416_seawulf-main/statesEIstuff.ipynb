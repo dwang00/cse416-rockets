{
 "cells": [
  {
   "cell_type": "code",
   "execution_count": 28,
   "id": "e5a5c528-73d1-428a-9603-3a42fdffe88f",
   "metadata": {
    "scrolled": true
   },
   "outputs": [
    {
     "name": "stdout",
     "output_type": "stream",
     "text": [
      "     OBJECTID  DISTRICT  POPULATION   RDED  TOTAL_REG  ETH1_EUR  ETH1_AA  \\\n",
      "0           1         1        1602  01-01       1254       211      936   \n",
      "1           2         1        1982  01-02       1579       155     1310   \n",
      "2           3         1        1692  01-03       1262        83     1094   \n",
      "3           4         1        2067  01-04       1619       249     1224   \n",
      "4           5         1        2063  01-05       1636       589      826   \n",
      "..        ...       ...         ...    ...        ...       ...      ...   \n",
      "508       520        41        2101  41-04       1622      1307       92   \n",
      "509       521        41        3398  41-05       2001      1402      281   \n",
      "510       522        41        2863  41-06       2367      2015       40   \n",
      "511       523        41        2532  41-07       1619      1210      126   \n",
      "512       524        41        2817  41-08       2601      1972      119   \n",
      "\n",
      "     Biden Percentage  Trump Percentage  ETH1_OTHERS  pct_caucasian  \\\n",
      "0            0.934236          0.065764          455       0.131710   \n",
      "1            0.952233          0.047767          517       0.078204   \n",
      "2            0.959298          0.040702          515       0.049054   \n",
      "3            0.944877          0.055123          594       0.120464   \n",
      "4            0.874657          0.125343          648       0.285507   \n",
      "..                ...               ...          ...            ...   \n",
      "508          0.389085          0.610915          702       0.622085   \n",
      "509          0.465383          0.534617         1715       0.412596   \n",
      "510          0.391994          0.608006          808       0.703807   \n",
      "511          0.400305          0.599695         1196       0.477883   \n",
      "512          0.397685          0.602315          726       0.700035   \n",
      "\n",
      "     pct_africanamerican  pct_other  \n",
      "0               0.584270   0.284020  \n",
      "1               0.660949   0.260848  \n",
      "2               0.646572   0.304374  \n",
      "3               0.592163   0.287373  \n",
      "4               0.400388   0.314106  \n",
      "..                   ...        ...  \n",
      "508             0.043789   0.334127  \n",
      "509             0.082696   0.504709  \n",
      "510             0.013971   0.282221  \n",
      "511             0.049763   0.472354  \n",
      "512             0.042244   0.257721  \n",
      "\n",
      "[423 rows x 13 columns]\n"
     ]
    },
    {
     "name": "stderr",
     "output_type": "stream",
     "text": [
      "C:\\Users\\danda\\AppData\\Local\\Temp\\ipykernel_4792\\2504614454.py:14: SettingWithCopyWarning: \n",
      "A value is trying to be set on a copy of a slice from a DataFrame\n",
      "\n",
      "See the caveats in the documentation: https://pandas.pydata.org/pandas-docs/stable/user_guide/indexing.html#returning-a-view-versus-a-copy\n",
      "  data.drop(columns=['Shape__Are','Shape__Len','ETH1_UNK'], inplace=True)\n",
      "C:\\Users\\danda\\AppData\\Local\\Temp\\ipykernel_4792\\2504614454.py:15: SettingWithCopyWarning: \n",
      "A value is trying to be set on a copy of a slice from a DataFrame\n",
      "\n",
      "See the caveats in the documentation: https://pandas.pydata.org/pandas-docs/stable/user_guide/indexing.html#returning-a-view-versus-a-copy\n",
      "  data.drop(columns=['Hawkins Percentage','Jorgensen Percentage'], inplace=True)\n",
      "C:\\Users\\danda\\AppData\\Local\\Temp\\ipykernel_4792\\2504614454.py:17: SettingWithCopyWarning: \n",
      "A value is trying to be set on a copy of a slice from a DataFrame.\n",
      "Try using .loc[row_indexer,col_indexer] = value instead\n",
      "\n",
      "See the caveats in the documentation: https://pandas.pydata.org/pandas-docs/stable/user_guide/indexing.html#returning-a-view-versus-a-copy\n",
      "  data['ETH1_OTHERS'] = data['POPULATION'] - data['ETH1_EUR'] - data['ETH1_AA']\n",
      "C:\\Users\\danda\\AppData\\Local\\Temp\\ipykernel_4792\\2504614454.py:18: SettingWithCopyWarning: \n",
      "A value is trying to be set on a copy of a slice from a DataFrame.\n",
      "Try using .loc[row_indexer,col_indexer] = value instead\n",
      "\n",
      "See the caveats in the documentation: https://pandas.pydata.org/pandas-docs/stable/user_guide/indexing.html#returning-a-view-versus-a-copy\n",
      "  data['pct_caucasian'] = data['ETH1_EUR'] / data['POPULATION']\n",
      "C:\\Users\\danda\\AppData\\Local\\Temp\\ipykernel_4792\\2504614454.py:19: SettingWithCopyWarning: \n",
      "A value is trying to be set on a copy of a slice from a DataFrame.\n",
      "Try using .loc[row_indexer,col_indexer] = value instead\n",
      "\n",
      "See the caveats in the documentation: https://pandas.pydata.org/pandas-docs/stable/user_guide/indexing.html#returning-a-view-versus-a-copy\n",
      "  data['pct_africanamerican'] = data['ETH1_AA'] / data['POPULATION']\n",
      "C:\\Users\\danda\\AppData\\Local\\Temp\\ipykernel_4792\\2504614454.py:20: SettingWithCopyWarning: \n",
      "A value is trying to be set on a copy of a slice from a DataFrame.\n",
      "Try using .loc[row_indexer,col_indexer] = value instead\n",
      "\n",
      "See the caveats in the documentation: https://pandas.pydata.org/pandas-docs/stable/user_guide/indexing.html#returning-a-view-versus-a-copy\n",
      "  data['pct_other'] = data['ETH1_OTHERS'] / data['POPULATION']\n",
      "C:\\Users\\danda\\AppData\\Local\\Temp\\ipykernel_4792\\2504614454.py:22: SettingWithCopyWarning: \n",
      "A value is trying to be set on a copy of a slice from a DataFrame.\n",
      "Try using .loc[row_indexer,col_indexer] = value instead\n",
      "\n",
      "See the caveats in the documentation: https://pandas.pydata.org/pandas-docs/stable/user_guide/indexing.html#returning-a-view-versus-a-copy\n",
      "  data['Biden Percentage'] = data['Biden Percentage'] / 100\n",
      "C:\\Users\\danda\\AppData\\Local\\Temp\\ipykernel_4792\\2504614454.py:23: SettingWithCopyWarning: \n",
      "A value is trying to be set on a copy of a slice from a DataFrame.\n",
      "Try using .loc[row_indexer,col_indexer] = value instead\n",
      "\n",
      "See the caveats in the documentation: https://pandas.pydata.org/pandas-docs/stable/user_guide/indexing.html#returning-a-view-versus-a-copy\n",
      "  data['Trump Percentage'] = data['Trump Percentage'] / 100\n",
      "C:\\Users\\danda\\AppData\\Local\\Temp\\ipykernel_4792\\2504614454.py:29: SettingWithCopyWarning: \n",
      "A value is trying to be set on a copy of a slice from a DataFrame.\n",
      "Try using .loc[row_indexer,col_indexer] = value instead\n",
      "\n",
      "See the caveats in the documentation: https://pandas.pydata.org/pandas-docs/stable/user_guide/indexing.html#returning-a-view-versus-a-copy\n",
      "  data[['Biden Percentage', 'Trump Percentage']] = normalized_cols\n",
      "C:\\Users\\danda\\AppData\\Local\\Temp\\ipykernel_4792\\2504614454.py:34: SettingWithCopyWarning: \n",
      "A value is trying to be set on a copy of a slice from a DataFrame.\n",
      "Try using .loc[row_indexer,col_indexer] = value instead\n",
      "\n",
      "See the caveats in the documentation: https://pandas.pydata.org/pandas-docs/stable/user_guide/indexing.html#returning-a-view-versus-a-copy\n",
      "  data[['pct_caucasian', 'pct_africanamerican', 'pct_other']] = normalized_cols\n"
     ]
    }
   ],
   "source": [
    "import numpy as np\n",
    "import pymc as pm\n",
    "\n",
    "from pyei.two_by_two import TwoByTwoEI\n",
    "from pyei.goodmans_er import GoodmansER\n",
    "from pyei.goodmans_er import GoodmansERBayes\n",
    "from pyei.r_by_c import RowByColumnEI\n",
    "from pyei.io_utils import from_netcdf, to_netcdf\n",
    "import pandas as pd\n",
    "\n",
    "df = pd.read_csv('DE_precincts_updated2.csv')\n",
    "\n",
    "data = df.dropna()\n",
    "data.drop(columns=['Shape__Are','Shape__Len','ETH1_UNK'], inplace=True)\n",
    "data.drop(columns=['Hawkins Percentage','Jorgensen Percentage'], inplace=True)\n",
    "\n",
    "data['ETH1_OTHERS'] = data['POPULATION'] - data['ETH1_EUR'] - data['ETH1_AA']\n",
    "data['pct_caucasian'] = data['ETH1_EUR'] / data['POPULATION']\n",
    "data['pct_africanamerican'] = data['ETH1_AA'] / data['POPULATION']\n",
    "data['pct_other'] = data['ETH1_OTHERS'] / data['POPULATION']\n",
    "\n",
    "data['Biden Percentage'] = data['Biden Percentage'] / 100\n",
    "data['Trump Percentage'] = data['Trump Percentage'] / 100\n",
    "\n",
    "\n",
    "columns_to_normalize = data[['Biden Percentage', 'Trump Percentage']]\n",
    "row_sums = columns_to_normalize.sum(axis=1)\n",
    "normalized_cols = columns_to_normalize.div(row_sums, axis=0)\n",
    "data[['Biden Percentage', 'Trump Percentage']] = normalized_cols\n",
    "\n",
    "columns_to_normalize = data[['pct_caucasian', 'pct_africanamerican', 'pct_other']]\n",
    "row_sums = columns_to_normalize.sum(axis=1)\n",
    "normalized_cols = columns_to_normalize.div(row_sums, axis=0)\n",
    "data[['pct_caucasian', 'pct_africanamerican', 'pct_other']] = normalized_cols\n",
    "\n",
    "data = data.dropna()\n",
    "rows_with_negative_eth_other = data[data['ETH1_OTHERS'] < 0]\n",
    "data = data.drop(rows_with_negative_eth_other.index)\n",
    "data.head()\n",
    "print(data)"
   ]
  },
  {
   "cell_type": "code",
   "execution_count": 32,
   "id": "d4a2fe8e-72d4-4b52-b2f8-3cd14d27ca17",
   "metadata": {
    "scrolled": true
   },
   "outputs": [
    {
     "name": "stdout",
     "output_type": "stream",
     "text": [
      "Running ['Caucasian', 'African American', 'Others'] x ['Biden', 'Trump'] EI\n",
      "r = 3 rows (demographic groups)\n",
      "c = 2 columns (candidates or voting outcomes)\n",
      "number of precincts = 423\n"
     ]
    },
    {
     "data": {
      "application/vnd.jupyter.widget-view+json": {
       "model_id": "7c8f4f6edce34d3abb357b1a47844ce2",
       "version_major": 2,
       "version_minor": 0
      },
      "text/plain": [
       "  0%|          | 0/2500 [00:00<?, ?it/s]"
      ]
     },
     "metadata": {},
     "output_type": "display_data"
    },
    {
     "data": {
      "application/vnd.jupyter.widget-view+json": {
       "model_id": "0e1c9900737d493581f5e29acfa5121a",
       "version_major": 2,
       "version_minor": 0
      },
      "text/plain": [
       "  0%|          | 0/2500 [00:00<?, ?it/s]"
      ]
     },
     "metadata": {},
     "output_type": "display_data"
    },
    {
     "data": {
      "application/vnd.jupyter.widget-view+json": {
       "model_id": "0eaf8759620b444189c231ccb9aafb9c",
       "version_major": 2,
       "version_minor": 0
      },
      "text/plain": [
       "  0%|          | 0/2500 [00:00<?, ?it/s]"
      ]
     },
     "metadata": {},
     "output_type": "display_data"
    },
    {
     "data": {
      "application/vnd.jupyter.widget-view+json": {
       "model_id": "2d3f99521cbc416080ccfdb20ac14744",
       "version_major": 2,
       "version_minor": 0
      },
      "text/plain": [
       "  0%|          | 0/2500 [00:00<?, ?it/s]"
      ]
     },
     "metadata": {},
     "output_type": "display_data"
    },
    {
     "name": "stderr",
     "output_type": "stream",
     "text": [
      "The rhat statistic is larger than 1.01 for some parameters. This indicates problems during sampling. See https://arxiv.org/abs/1903.08008 for details\n",
      "The effective sample size per chain is smaller than 100 for some parameters.  A higher number is needed for reliable rhat and ess computation. See https://arxiv.org/abs/1903.08008 for details\n"
     ]
    }
   ],
   "source": [
    "ei_rbyc = RowByColumnEI(model_name='multinomial-dirichlet-modified', pareto_shape=100, pareto_scale=100)\n",
    "\n",
    "group_fractions = np.array(data[['pct_caucasian','pct_africanamerican', 'pct_other']]).T\n",
    "votes_fractions = np.array(data[['Biden Percentage', 'Trump Percentage']]).T\n",
    "\n",
    "group_fractions = np.round(group_fractions, decimals=6)\n",
    "votes_fractions = np.round(votes_fractions, decimals=6)\n",
    "\n",
    "candidate_names_rbyc = ['Biden', 'Trump']\n",
    "demographic_group_names_rbyc = ['Caucasian','African American', 'Others']\n",
    "\n",
    "precinct_pops = np.array(data[\"POPULATION\"])\n",
    "precinct_names = np.array(data['RDED'])\n",
    "\n",
    "ei_rbyc.fit(group_fractions, \n",
    "       votes_fractions, \n",
    "       precinct_pops, \n",
    "       demographic_group_names=demographic_group_names_rbyc, \n",
    "       candidate_names=candidate_names_rbyc, \n",
    "       precinct_names=precinct_names\n",
    ")\n"
   ]
  },
  {
   "cell_type": "code",
   "execution_count": 33,
   "id": "8230cf36-bcfa-4160-a73c-1b07e536e529",
   "metadata": {},
   "outputs": [],
   "source": [
    "sampled_voting_prefs = ei_rbyc.sampled_voting_prefs\n"
   ]
  },
  {
   "cell_type": "code",
   "execution_count": 34,
   "id": "f7883390-0265-4ca9-818d-af4df691aa69",
   "metadata": {},
   "outputs": [
    {
     "data": {
      "text/plain": [
       "array([<Axes: title={'center': 'Support for Biden'}>,\n",
       "       <Axes: title={'center': 'Support for Trump'}>], dtype=object)"
      ]
     },
     "execution_count": 34,
     "metadata": {},
     "output_type": "execute_result"
    },
    {
     "data": {
      "image/png": "[encoded data removed]",
      "text/plain": [
       "<Figure size 1000x500 with 2 Axes>"
      ]
     },
     "metadata": {},
     "output_type": "display_data"
    }
   ],
   "source": [
    "ei_rbyc.plot()"
   ]
  },
  {
   "cell_type": "code",
   "execution_count": 7,
   "id": "c466d75f-397f-43c4-b3a7-7133c18c208a",
   "metadata": {},
   "outputs": [],
   "source": [
    "import pymongo\n",
    "import json\n",
    "client = pymongo.MongoClient(\"mongodb://localhost:27017/\")\n",
    "db = client[\"cse416-rockets\"]\n",
    "collection = db[\"ecoInfData\"]\n",
    "arr = sampled_voting_prefs\n",
    "\n",
    "candidates = [\"Biden\", \"Trump\"]\n",
    "groups = [\"caucasian\", \"african american\", \"other\"]\n",
    "\n",
    "for candidate_idx, candidate in enumerate(candidates):\n",
    "    for group_idx, group in enumerate(groups):\n",
    "        # Extracting data for the current candidate and demographic group\n",
    "        data = arr[:, group_idx, candidate_idx]\n",
    "        \n",
    "        # Creating JSON document\n",
    "        document = {\n",
    "            \"state\": \"DELAWARE\",\n",
    "            \"candidate\": candidate,\n",
    "            \"race\": group,\n",
    "            \"data\": data.tolist(),  # Converting numpy array to Python list\n",
    "            \"election\": \"Presidential\"\n",
    "        }\n",
    "        \n",
    "        # Inserting document into MongoDB collection\n",
    "        collection.insert_one(document)\n"
   ]
  },
  {
   "cell_type": "code",
   "execution_count": 8,
   "id": "620d094d-5af7-4112-bf6a-df365cfdbc4c",
   "metadata": {},
   "outputs": [
    {
     "name": "stderr",
     "output_type": "stream",
     "text": [
      "C:\\Users\\danda\\AppData\\Local\\Temp\\ipykernel_16780\\3194797610.py:13: SettingWithCopyWarning: \n",
      "A value is trying to be set on a copy of a slice from a DataFrame\n",
      "\n",
      "See the caveats in the documentation: https://pandas.pydata.org/pandas-docs/stable/user_guide/indexing.html#returning-a-view-versus-a-copy\n",
      "  data.drop(columns=['Shape__Are','Shape__Len','ETH1_UNK','DISTRICT','TOTAL_REG', 'POPULATION'], inplace=True)\n"
     ]
    },
    {
     "data": {
      "text/html": [
       "<div>\n",
       "<style scoped>\n",
       "    .dataframe tbody tr th:only-of-type {\n",
       "        vertical-align: middle;\n",
       "    }\n",
       "\n",
       "    .dataframe tbody tr th {\n",
       "        vertical-align: top;\n",
       "    }\n",
       "\n",
       "    .dataframe thead th {\n",
       "        text-align: right;\n",
       "    }\n",
       "</style>\n",
       "<table border=\"1\" class=\"dataframe\">\n",
       "  <thead>\n",
       "    <tr style=\"text-align: right;\">\n",
       "      <th></th>\n",
       "      <th>OBJECTID</th>\n",
       "      <th>RDED</th>\n",
       "      <th>ETH1_EUR</th>\n",
       "      <th>ETH1_AA</th>\n",
       "      <th>rochester_votes</th>\n",
       "      <th>murphy_votes</th>\n",
       "      <th>total_votes</th>\n",
       "      <th>pct_rochester</th>\n",
       "      <th>pct_murphy</th>\n",
       "      <th>totalPop</th>\n",
       "      <th>pct_eur</th>\n",
       "      <th>pct_aa</th>\n",
       "      <th>pct_other</th>\n",
       "    </tr>\n",
       "  </thead>\n",
       "  <tbody>\n",
       "    <tr>\n",
       "      <th>0</th>\n",
       "      <td>1</td>\n",
       "      <td>01-01</td>\n",
       "      <td>211</td>\n",
       "      <td>936</td>\n",
       "      <td>477.0</td>\n",
       "      <td>36.0</td>\n",
       "      <td>513.0</td>\n",
       "      <td>0.929825</td>\n",
       "      <td>0.070175</td>\n",
       "      <td>1177</td>\n",
       "      <td>0.179269</td>\n",
       "      <td>0.795242</td>\n",
       "      <td>0.025489</td>\n",
       "    </tr>\n",
       "    <tr>\n",
       "      <th>1</th>\n",
       "      <td>2</td>\n",
       "      <td>01-02</td>\n",
       "      <td>155</td>\n",
       "      <td>1310</td>\n",
       "      <td>569.0</td>\n",
       "      <td>29.0</td>\n",
       "      <td>598.0</td>\n",
       "      <td>0.951505</td>\n",
       "      <td>0.048495</td>\n",
       "      <td>1497</td>\n",
       "      <td>0.103540</td>\n",
       "      <td>0.875084</td>\n",
       "      <td>0.021376</td>\n",
       "    </tr>\n",
       "    <tr>\n",
       "      <th>2</th>\n",
       "      <td>3</td>\n",
       "      <td>01-03</td>\n",
       "      <td>83</td>\n",
       "      <td>1094</td>\n",
       "      <td>309.0</td>\n",
       "      <td>11.0</td>\n",
       "      <td>320.0</td>\n",
       "      <td>0.965625</td>\n",
       "      <td>0.034375</td>\n",
       "      <td>1194</td>\n",
       "      <td>0.069514</td>\n",
       "      <td>0.916248</td>\n",
       "      <td>0.014238</td>\n",
       "    </tr>\n",
       "    <tr>\n",
       "      <th>3</th>\n",
       "      <td>4</td>\n",
       "      <td>01-04</td>\n",
       "      <td>249</td>\n",
       "      <td>1224</td>\n",
       "      <td>439.0</td>\n",
       "      <td>26.0</td>\n",
       "      <td>465.0</td>\n",
       "      <td>0.944086</td>\n",
       "      <td>0.055914</td>\n",
       "      <td>1513</td>\n",
       "      <td>0.164574</td>\n",
       "      <td>0.808989</td>\n",
       "      <td>0.026438</td>\n",
       "    </tr>\n",
       "    <tr>\n",
       "      <th>4</th>\n",
       "      <td>5</td>\n",
       "      <td>01-05</td>\n",
       "      <td>589</td>\n",
       "      <td>826</td>\n",
       "      <td>719.0</td>\n",
       "      <td>99.0</td>\n",
       "      <td>818.0</td>\n",
       "      <td>0.878973</td>\n",
       "      <td>0.121027</td>\n",
       "      <td>1516</td>\n",
       "      <td>0.388522</td>\n",
       "      <td>0.544855</td>\n",
       "      <td>0.066623</td>\n",
       "    </tr>\n",
       "  </tbody>\n",
       "</table>\n",
       "</div>"
      ],
      "text/plain": [
       "   OBJECTID   RDED  ETH1_EUR  ETH1_AA  rochester_votes  murphy_votes  \\\n",
       "0         1  01-01       211      936            477.0          36.0   \n",
       "1         2  01-02       155     1310            569.0          29.0   \n",
       "2         3  01-03        83     1094            309.0          11.0   \n",
       "3         4  01-04       249     1224            439.0          26.0   \n",
       "4         5  01-05       589      826            719.0          99.0   \n",
       "\n",
       "   total_votes  pct_rochester  pct_murphy  totalPop   pct_eur    pct_aa  \\\n",
       "0        513.0       0.929825    0.070175      1177  0.179269  0.795242   \n",
       "1        598.0       0.951505    0.048495      1497  0.103540  0.875084   \n",
       "2        320.0       0.965625    0.034375      1194  0.069514  0.916248   \n",
       "3        465.0       0.944086    0.055914      1513  0.164574  0.808989   \n",
       "4        818.0       0.878973    0.121027      1516  0.388522  0.544855   \n",
       "\n",
       "   pct_other  \n",
       "0   0.025489  \n",
       "1   0.021376  \n",
       "2   0.014238  \n",
       "3   0.026438  \n",
       "4   0.066623  "
      ]
     },
     "execution_count": 8,
     "metadata": {},
     "output_type": "execute_result"
    }
   ],
   "source": [
    "import numpy as np\n",
    "import pymc as pm\n",
    "\n",
    "from pyei.two_by_two import TwoByTwoEI\n",
    "from pyei.goodmans_er import GoodmansER\n",
    "from pyei.goodmans_er import GoodmansERBayes\n",
    "from pyei.r_by_c import RowByColumnEI\n",
    "from pyei.io_utils import from_netcdf, to_netcdf\n",
    "import pandas as pd\n",
    "\n",
    "df = pd.read_csv('DE_precincts_updated3.csv')\n",
    "data = df.dropna()\n",
    "data.drop(columns=['Shape__Are','Shape__Len','ETH1_UNK','DISTRICT','TOTAL_REG', 'POPULATION'], inplace=True)\n",
    "\n",
    "data = data.dropna()\n",
    "data.head()"
   ]
  },
  {
   "cell_type": "code",
   "execution_count": 9,
   "id": "791be631-f65b-412f-a34d-2bb5e30237b7",
   "metadata": {},
   "outputs": [
    {
     "name": "stdout",
     "output_type": "stream",
     "text": [
      "Negative values: []\n",
      "Running ['Caucasian', 'African American', 'Others'] x ['Rochester', 'Murphy'] EI\n",
      "r = 3 rows (demographic groups)\n",
      "c = 2 columns (candidates or voting outcomes)\n",
      "number of precincts = 498\n"
     ]
    },
    {
     "data": {
      "application/vnd.jupyter.widget-view+json": {
       "model_id": "6c690119df8f4d85a32959391922dcc0",
       "version_major": 2,
       "version_minor": 0
      },
      "text/plain": [
       "  0%|          | 0/2500 [00:00<?, ?it/s]"
      ]
     },
     "metadata": {},
     "output_type": "display_data"
    },
    {
     "data": {
      "application/vnd.jupyter.widget-view+json": {
       "model_id": "086d788e4f834b2f86f8fe997fad8576",
       "version_major": 2,
       "version_minor": 0
      },
      "text/plain": [
       "  0%|          | 0/2500 [00:00<?, ?it/s]"
      ]
     },
     "metadata": {},
     "output_type": "display_data"
    },
    {
     "data": {
      "application/vnd.jupyter.widget-view+json": {
       "model_id": "dc54fe6e99204e5498bf0d2758155bf2",
       "version_major": 2,
       "version_minor": 0
      },
      "text/plain": [
       "  0%|          | 0/2500 [00:00<?, ?it/s]"
      ]
     },
     "metadata": {},
     "output_type": "display_data"
    },
    {
     "data": {
      "application/vnd.jupyter.widget-view+json": {
       "model_id": "9435ccdbfc25491085707d21d9f0a6aa",
       "version_major": 2,
       "version_minor": 0
      },
      "text/plain": [
       "  0%|          | 0/2500 [00:00<?, ?it/s]"
      ]
     },
     "metadata": {},
     "output_type": "display_data"
    },
    {
     "name": "stderr",
     "output_type": "stream",
     "text": [
      "There were 4000 divergences after tuning. Increase `target_accept` or reparameterize.\n",
      "The rhat statistic is larger than 1.01 for some parameters. This indicates problems during sampling. See https://arxiv.org/abs/1903.08008 for details\n",
      "The effective sample size per chain is smaller than 100 for some parameters.  A higher number is needed for reliable rhat and ess computation. See https://arxiv.org/abs/1903.08008 for details\n"
     ]
    }
   ],
   "source": [
    "ei_rbyc = RowByColumnEI(model_name='multinomial-dirichlet-modified', pareto_shape=100, pareto_scale=100)\n",
    "\n",
    "group_fractions = np.array(data[['pct_eur','pct_aa', 'pct_other']]).T\n",
    "votes_fractions = np.array(data[['pct_rochester', 'pct_murphy']]).T\n",
    "\n",
    "group_fractions = np.round(group_fractions, decimals=6)\n",
    "votes_fractions = np.round(votes_fractions, decimals=6)\n",
    "\n",
    "negative_values = group_fractions[group_fractions < 0]\n",
    "print(\"Negative values:\", negative_values)\n",
    "\n",
    "candidate_names_rbyc = ['Rochester', 'Murphy']\n",
    "demographic_group_names_rbyc = ['Caucasian','African American', 'Others']\n",
    "\n",
    "precinct_pops = np.array(data[\"totalPop\"])\n",
    "precinct_names = np.array(data['RDED'])\n",
    "\n",
    "ei_rbyc.fit(group_fractions, \n",
    "       votes_fractions, \n",
    "       precinct_pops, \n",
    "       demographic_group_names=demographic_group_names_rbyc, \n",
    "       candidate_names=candidate_names_rbyc, \n",
    "       precinct_names=precinct_names\n",
    ")"
   ]
  },
  {
   "cell_type": "code",
   "execution_count": 10,
   "id": "c0661205-a7cd-4fd2-9fe2-3b6300e9bb42",
   "metadata": {},
   "outputs": [
    {
     "data": {
      "text/plain": [
       "array([<Axes: title={'center': 'Support for Rochester'}>,\n",
       "       <Axes: title={'center': 'Support for Murphy'}>], dtype=object)"
      ]
     },
     "execution_count": 10,
     "metadata": {},
     "output_type": "execute_result"
    },
    {
     "data": {
      "image/png": "[encoded data removed]",
      "text/plain": [
       "<Figure size 1000x500 with 2 Axes>"
      ]
     },
     "metadata": {},
     "output_type": "display_data"
    }
   ],
   "source": [
    "sampled_voting_prefs = ei_rbyc.sampled_voting_prefs\n",
    "ei_rbyc.plot()"
   ]
  },
  {
   "cell_type": "code",
   "execution_count": 11,
   "id": "d101fc31-3294-4942-b6a2-99077784a43e",
   "metadata": {},
   "outputs": [],
   "source": [
    "import pymongo\n",
    "import json\n",
    "client = pymongo.MongoClient(\"mongodb://localhost:27017/\")\n",
    "db = client[\"cse416-rockets\"]\n",
    "collection = db[\"ecoInfData\"]\n",
    "arr = sampled_voting_prefs\n",
    "\n",
    "candidates = [\"Rochester\", \"Murphy\"]\n",
    "groups = [\"caucasian\", \"african american\", \"Other\"]\n",
    "\n",
    "for candidate_idx, candidate in enumerate(candidates):\n",
    "    for group_idx, group in enumerate(groups):\n",
    "        # Extracting data for the current candidate and demographic group\n",
    "        data = arr[:, group_idx, candidate_idx]\n",
    "        \n",
    "        # Creating JSON document\n",
    "        document = {\n",
    "            \"state\": \"DELAWARE\",\n",
    "            \"candidate\": candidate,\n",
    "            \"race\": group,\n",
    "            \"data\": data.tolist(),  # Converting numpy array to Python list\n",
    "            \"election\": \"RepInCongress\"\n",
    "        }\n",
    "        \n",
    "        # Inserting document into MongoDB collection\n",
    "        collection.insert_one(document)\n"
   ]
  },
  {
   "cell_type": "code",
   "execution_count": 12,
   "id": "8ade498b-ba0e-4e61-8ac4-a8eaaf0b0c44",
   "metadata": {},
   "outputs": [
    {
     "name": "stdout",
     "output_type": "stream",
     "text": [
      "       Unnamed: 0  total_reg  party_rep  party_dem  eth1_eur  eth1_aa  \\\n",
      "1               1        533         59        471        86      444   \n",
      "2               2        544        347        168       347      155   \n",
      "3               3        336        163         53       286       22   \n",
      "4               4        750        318        319       422      261   \n",
      "5               5        232        152         56       170       42   \n",
      "...           ...        ...        ...        ...       ...      ...   \n",
      "18216       18216         44         27         12        30       11   \n",
      "18228       18228         25          8         11        11       10   \n",
      "18256       18256         88         75         10        81        3   \n",
      "18262       18262         20         11          8        16        2   \n",
      "18264       18264         24         16          7        20        1   \n",
      "\n",
      "       party_other  eth1_other  pct_party_rep  pct_party_dem  pct_party_other  \\\n",
      "1                3           3       0.111321       0.888679         0.005629   \n",
      "2               29          42       0.673786       0.326214         0.053309   \n",
      "3              120          28       0.754630       0.245370         0.357143   \n",
      "4              113          67       0.499215       0.500785         0.150667   \n",
      "5               24          20       0.730769       0.269231         0.103448   \n",
      "...            ...         ...            ...            ...              ...   \n",
      "18216            5           3       0.692308       0.307692         0.113636   \n",
      "18228            6           4       0.421053       0.578947         0.240000   \n",
      "18256            3           4       0.882353       0.117647         0.034091   \n",
      "18262            1           2       0.578947       0.421053         0.050000   \n",
      "18264            1           3       0.695652       0.304348         0.041667   \n",
      "\n",
      "       pct_eth1_eur  pct_eth1_aa  pct_eth1_other  \n",
      "1          0.161351     0.833021        0.005629  \n",
      "2          0.637868     0.284926        0.077206  \n",
      "3          0.851190     0.065476        0.083333  \n",
      "4          0.562667     0.348000        0.089333  \n",
      "5          0.732759     0.181034        0.086207  \n",
      "...             ...          ...             ...  \n",
      "18216      0.681818     0.250000        0.068182  \n",
      "18228      0.440000     0.400000        0.160000  \n",
      "18256      0.920455     0.034091        0.045455  \n",
      "18262      0.800000     0.100000        0.100000  \n",
      "18264      0.833333     0.041667        0.125000  \n",
      "\n",
      "[2014 rows x 14 columns]\n"
     ]
    }
   ],
   "source": [
    "import numpy as np\n",
    "import pymc as pm\n",
    "\n",
    "from pyei.two_by_two import TwoByTwoEI\n",
    "from pyei.goodmans_er import GoodmansER\n",
    "from pyei.goodmans_er import GoodmansERBayes\n",
    "from pyei.r_by_c import RowByColumnEI\n",
    "from pyei.io_utils import from_netcdf, to_netcdf\n",
    "import pandas as pd\n",
    "\n",
    "df = pd.read_csv('AL_ei_data.csv')\n",
    "\n",
    "\n",
    "columns_to_normalize = df[['pct_party_dem', 'pct_party_rep']]\n",
    "row_sums = columns_to_normalize.sum(axis=1)\n",
    "normalized_cols = columns_to_normalize.div(row_sums, axis=0)\n",
    "df[['pct_party_dem', 'pct_party_rep']] = normalized_cols\n",
    "\n",
    "columns_to_normalize = df[['pct_eth1_eur','pct_eth1_aa', 'pct_eth1_other']]\n",
    "row_sums = columns_to_normalize.sum(axis=1)\n",
    "normalized_cols = columns_to_normalize.div(row_sums, axis=0)\n",
    "df[['pct_eth1_eur','pct_eth1_aa', 'pct_eth1_other']] = normalized_cols\n",
    "\n",
    "df = df.dropna()\n",
    "df = df[(df != 0).all(axis=1)]\n",
    "df = df[:-21600]\n",
    "print(df)"
   ]
  },
  {
   "cell_type": "code",
   "execution_count": 13,
   "id": "d270f05a-106b-4add-b600-7b8c92140978",
   "metadata": {},
   "outputs": [
    {
     "name": "stdout",
     "output_type": "stream",
     "text": [
      "non1 values: [0.161351 0.637868 0.85119  ... 0.045455 0.1      0.125   ]\n",
      "non1 VALUES: [0.888679 0.326214 0.24537  ... 0.882353 0.578947 0.695652]\n",
      "Running ['Caucasian', 'African American', 'Others'] x ['Biden', 'Trump'] EI\n",
      "r = 3 rows (demographic groups)\n",
      "c = 2 columns (candidates or voting outcomes)\n",
      "number of precincts = 2014\n"
     ]
    },
    {
     "data": {
      "application/vnd.jupyter.widget-view+json": {
       "model_id": "03094123cf0d4e4eb3c7dd4f720b7c71",
       "version_major": 2,
       "version_minor": 0
      },
      "text/plain": [
       "  0%|          | 0/2500 [00:00<?, ?it/s]"
      ]
     },
     "metadata": {},
     "output_type": "display_data"
    },
    {
     "data": {
      "application/vnd.jupyter.widget-view+json": {
       "model_id": "516c37ef04534982b86e99b6dc1a65df",
       "version_major": 2,
       "version_minor": 0
      },
      "text/plain": [
       "  0%|          | 0/2500 [00:00<?, ?it/s]"
      ]
     },
     "metadata": {},
     "output_type": "display_data"
    },
    {
     "data": {
      "application/vnd.jupyter.widget-view+json": {
       "model_id": "eb9fd00e7dde41a9a303d49ae8670061",
       "version_major": 2,
       "version_minor": 0
      },
      "text/plain": [
       "  0%|          | 0/2500 [00:00<?, ?it/s]"
      ]
     },
     "metadata": {},
     "output_type": "display_data"
    },
    {
     "data": {
      "application/vnd.jupyter.widget-view+json": {
       "model_id": "224e407a62c146a1a5f5f098b39a1591",
       "version_major": 2,
       "version_minor": 0
      },
      "text/plain": [
       "  0%|          | 0/2500 [00:00<?, ?it/s]"
      ]
     },
     "metadata": {},
     "output_type": "display_data"
    },
    {
     "name": "stderr",
     "output_type": "stream",
     "text": [
      "There were 4000 divergences after tuning. Increase `target_accept` or reparameterize.\n",
      "The rhat statistic is larger than 1.01 for some parameters. This indicates problems during sampling. See https://arxiv.org/abs/1903.08008 for details\n",
      "The effective sample size per chain is smaller than 100 for some parameters.  A higher number is needed for reliable rhat and ess computation. See https://arxiv.org/abs/1903.08008 for details\n"
     ]
    }
   ],
   "source": [
    "ei_rbyc = RowByColumnEI(model_name='multinomial-dirichlet-modified', pareto_shape=100, pareto_scale=100)\n",
    "\n",
    "group_fractions = np.array(df[['pct_eth1_eur','pct_eth1_aa', 'pct_eth1_other']]).T\n",
    "votes_fractions = np.array(df[['pct_party_dem', 'pct_party_rep']]).T\n",
    "\n",
    "group_fractions = np.round(group_fractions, decimals=6)\n",
    "votes_fractions = np.round(votes_fractions, decimals=6)\n",
    "\n",
    "not1values = group_fractions[group_fractions != 1]\n",
    "not1values2 = votes_fractions[votes_fractions != 1]\n",
    "print(\"non1 values:\", not1values)\n",
    "print(\"non1 VALUES:\", not1values2)\n",
    "\n",
    "candidate_names_rbyc = ['Biden', 'Trump']\n",
    "demographic_group_names_rbyc = ['Caucasian','African American', 'Others']\n",
    "\n",
    "precinct_pops = np.array(df[\"total_reg\"])\n",
    "\n",
    "ei_rbyc.fit(group_fractions, \n",
    "       votes_fractions, \n",
    "       precinct_pops, \n",
    "       demographic_group_names=demographic_group_names_rbyc, \n",
    "       candidate_names=candidate_names_rbyc, \n",
    "       #precinct_names=precinct_names\n",
    ")\n"
   ]
  },
  {
   "cell_type": "code",
   "execution_count": 14,
   "id": "d0679653-ecfc-412f-8752-8f741bb2bf12",
   "metadata": {},
   "outputs": [
    {
     "data": {
      "text/plain": [
       "array([<Axes: title={'center': 'Support for Biden'}>,\n",
       "       <Axes: title={'center': 'Support for Trump'}>], dtype=object)"
      ]
     },
     "execution_count": 14,
     "metadata": {},
     "output_type": "execute_result"
    },
    {
     "data": {
      "image/png": "[encoded data removed]",
      "text/plain": [
       "<Figure size 1000x500 with 2 Axes>"
      ]
     },
     "metadata": {},
     "output_type": "display_data"
    }
   ],
   "source": [
    "sampled_voting_prefs = ei_rbyc.sampled_voting_prefs\n",
    "ei_rbyc.plot()"
   ]
  },
  {
   "cell_type": "code",
   "execution_count": 4,
   "id": "790d500e-7e33-4fe9-bf38-001f904062c9",
   "metadata": {},
   "outputs": [
    {
     "name": "stdout",
     "output_type": "stream",
     "text": [
      "[[[6.91675530e-02 8.27416135e-01 1.03416312e-01]\n",
      "  [9.87714567e-01 1.03337962e-02 1.95163716e-03]\n",
      "  [2.17627066e-01 5.55702685e-01 2.26670249e-01]]\n",
      "\n",
      " [[7.18313805e-02 8.25306767e-01 1.02861852e-01]\n",
      "  [9.87570528e-01 1.14830926e-02 9.46379679e-04]\n",
      "  [2.13639391e-01 5.65594194e-01 2.20766415e-01]]\n",
      "\n",
      " [[6.63457682e-02 8.29346257e-01 1.04307974e-01]\n",
      "  [9.89703154e-01 8.91462489e-03 1.38222107e-03]\n",
      "  [2.14826889e-01 5.53984787e-01 2.31188324e-01]]\n",
      "\n",
      " ...\n",
      "\n",
      " [[7.71694791e-02 8.21151154e-01 1.01679367e-01]\n",
      "  [9.88659074e-01 1.07619641e-02 5.78962156e-04]\n",
      "  [2.02125333e-01 5.62402556e-01 2.35472111e-01]]\n",
      "\n",
      " [[7.24110304e-02 8.22479069e-01 1.05109901e-01]\n",
      "  [9.89358203e-01 9.93482350e-03 7.06973919e-04]\n",
      "  [1.95598275e-01 5.69586001e-01 2.34815724e-01]]\n",
      "\n",
      " [[7.25693214e-02 8.25956079e-01 1.01474600e-01]\n",
      "  [9.89523313e-01 9.93052258e-03 5.46164645e-04]\n",
      "  [1.97222839e-01 5.65584570e-01 2.37192591e-01]]]\n"
     ]
    }
   ],
   "source": [
    "print(sampled_voting_prefs)"
   ]
  },
  {
   "cell_type": "code",
   "execution_count": 15,
   "id": "14dc9815-d51c-4957-b0d2-de1986c81c27",
   "metadata": {},
   "outputs": [],
   "source": [
    "import pymongo\n",
    "import json\n",
    "client = pymongo.MongoClient(\"mongodb://localhost:27017/\")\n",
    "db = client[\"cse416-rockets\"]\n",
    "collection = db[\"ecoInfData\"]\n",
    "arr = sampled_voting_prefs\n",
    "\n",
    "candidates = [\"Biden\", \"Trump\"]\n",
    "groups = [\"caucasian\", \"african american\", \"Other\"]\n",
    "\n",
    "for candidate_idx, candidate in enumerate(candidates):\n",
    "    for group_idx, group in enumerate(groups):\n",
    "        # Extracting data for the current candidate and demographic group\n",
    "        data = arr[:, group_idx, candidate_idx]\n",
    "        \n",
    "        # Creating JSON document\n",
    "        document = {\n",
    "            \"state\": \"ALABAMA\",\n",
    "            \"candidate\": candidate,\n",
    "            \"race\": group,\n",
    "            \"data\": data.tolist(),  # Converting numpy array to Python list\n",
    "            \"election\": \"Presidential\"\n",
    "        }\n",
    "        \n",
    "        # Inserting document into MongoDB collection\n",
    "        collection.insert_one(document)\n"
   ]
  },
  {
   "cell_type": "code",
   "execution_count": 16,
   "id": "4609097d-8efb-4c63-aa53-e1cd0c6506c8",
   "metadata": {},
   "outputs": [
    {
     "name": "stdout",
     "output_type": "stream",
     "text": [
      "    voted_for_flowers  voted_for_ivey  votecount  voted_eur  voted_aa  \\\n",
      "0                3515           13387      16902      13547      2865   \n",
      "1               10296           58823      69119      62056      3215   \n",
      "2                2549            3888       6437       3759      2433   \n",
      "3                 930            4681       5611       4765       786   \n",
      "4                 930           14895      15825      15252       180   \n",
      "..                ...             ...        ...        ...       ...   \n",
      "61              17937           31841      49778      34855     13394   \n",
      "62               1905           15217      17122      15489       901   \n",
      "63               1206            4584       5790       4260      1159   \n",
      "64               2489            1371       3860       1048      2684   \n",
      "65                344            6331       6675       6464        22   \n",
      "\n",
      "    voted_oth  pct_flowers  pct_ivey  pct_eth_eur  pct_eth_aa  pct_eth_oth  \n",
      "0         490     0.207964  0.792036     0.801503    0.169507     0.028991  \n",
      "1        3848     0.148960  0.851040     0.897814    0.046514     0.055672  \n",
      "2         245     0.395992  0.604008     0.583968    0.377971     0.038061  \n",
      "3          60     0.165746  0.834254     0.849225    0.140082     0.010693  \n",
      "4         393     0.058768  0.941232     0.963791    0.011374     0.024834  \n",
      "..        ...          ...       ...          ...         ...          ...  \n",
      "61       1529     0.360340  0.639660     0.700209    0.269075     0.030716  \n",
      "62        732     0.111260  0.888740     0.904626    0.052622     0.042752  \n",
      "63        371     0.208290  0.791710     0.735751    0.200173     0.064076  \n",
      "64        128     0.644819  0.355181     0.271503    0.695337     0.033161  \n",
      "65        189     0.051536  0.948464     0.968390    0.003296     0.028315  \n",
      "\n",
      "[66 rows x 11 columns]\n"
     ]
    }
   ],
   "source": [
    "import numpy as np\n",
    "import pymc as pm\n",
    "\n",
    "from pyei.two_by_two import TwoByTwoEI\n",
    "from pyei.goodmans_er import GoodmansER\n",
    "from pyei.goodmans_er import GoodmansERBayes\n",
    "from pyei.r_by_c import RowByColumnEI\n",
    "from pyei.io_utils import from_netcdf, to_netcdf\n",
    "import pandas as pd\n",
    "\n",
    "df = pd.read_csv('AL_countydata.csv')\n",
    "print(df)"
   ]
  },
  {
   "cell_type": "code",
   "execution_count": 17,
   "id": "e65b0ed5-b49d-4e66-9633-3325fa64fc9b",
   "metadata": {},
   "outputs": [
    {
     "name": "stdout",
     "output_type": "stream",
     "text": [
      "Running ['Caucasian', 'African American', 'Others'] x ['Flowers', 'Ivey'] EI\n",
      "r = 3 rows (demographic groups)\n",
      "c = 2 columns (candidates or voting outcomes)\n",
      "number of precincts = 66\n"
     ]
    },
    {
     "data": {
      "application/vnd.jupyter.widget-view+json": {
       "model_id": "a22cf410263e411982dd80dac28dd6bc",
       "version_major": 2,
       "version_minor": 0
      },
      "text/plain": [
       "  0%|          | 0/2500 [00:00<?, ?it/s]"
      ]
     },
     "metadata": {},
     "output_type": "display_data"
    },
    {
     "data": {
      "application/vnd.jupyter.widget-view+json": {
       "model_id": "19f1ee8e8686494c81fd611907a1de21",
       "version_major": 2,
       "version_minor": 0
      },
      "text/plain": [
       "  0%|          | 0/2500 [00:00<?, ?it/s]"
      ]
     },
     "metadata": {},
     "output_type": "display_data"
    },
    {
     "data": {
      "application/vnd.jupyter.widget-view+json": {
       "model_id": "4f84738bc52d4674a99fcb9cc8d9f1f2",
       "version_major": 2,
       "version_minor": 0
      },
      "text/plain": [
       "  0%|          | 0/2500 [00:00<?, ?it/s]"
      ]
     },
     "metadata": {},
     "output_type": "display_data"
    },
    {
     "data": {
      "application/vnd.jupyter.widget-view+json": {
       "model_id": "98b7ce95851c4850a2611bafec147a12",
       "version_major": 2,
       "version_minor": 0
      },
      "text/plain": [
       "  0%|          | 0/2500 [00:00<?, ?it/s]"
      ]
     },
     "metadata": {},
     "output_type": "display_data"
    },
    {
     "name": "stderr",
     "output_type": "stream",
     "text": [
      "The effective sample size per chain is smaller than 100 for some parameters.  A higher number is needed for reliable rhat and ess computation. See https://arxiv.org/abs/1903.08008 for details\n"
     ]
    }
   ],
   "source": [
    "ei_rbyc = RowByColumnEI(model_name='multinomial-dirichlet-modified', pareto_shape=100, pareto_scale=100)\n",
    "\n",
    "group_fractions = np.array(df[['pct_eth_eur','pct_eth_aa', 'pct_eth_oth']]).T\n",
    "votes_fractions = np.array(df[['pct_flowers', 'pct_ivey']]).T\n",
    "\n",
    "\n",
    "candidate_names_rbyc = ['Flowers', 'Ivey']\n",
    "demographic_group_names_rbyc = ['Caucasian','African American', 'Others']\n",
    "\n",
    "\n",
    "precinct_pops = np.array(df[\"votecount\"])\n",
    "\n",
    "ei_rbyc.fit(group_fractions, \n",
    "       votes_fractions, \n",
    "       precinct_pops, \n",
    "       demographic_group_names=demographic_group_names_rbyc, \n",
    "       candidate_names=candidate_names_rbyc, \n",
    "       #precinct_names=precinct_names\n",
    ")"
   ]
  },
  {
   "cell_type": "code",
   "execution_count": 18,
   "id": "bab8c853-1d5f-4113-9819-bd34fc36e1bd",
   "metadata": {},
   "outputs": [
    {
     "data": {
      "text/plain": [
       "array([<Axes: title={'center': 'Support for Flowers'}>,\n",
       "       <Axes: title={'center': 'Support for Ivey'}>], dtype=object)"
      ]
     },
     "execution_count": 18,
     "metadata": {},
     "output_type": "execute_result"
    },
    {
     "data": {
      "image/png": "[encoded data removed]",
      "text/plain": [
       "<Figure size 1000x500 with 2 Axes>"
      ]
     },
     "metadata": {},
     "output_type": "display_data"
    }
   ],
   "source": [
    "sampled_voting_prefs = ei_rbyc.sampled_voting_prefs\n",
    "ei_rbyc.plot()"
   ]
  },
  {
   "cell_type": "code",
   "execution_count": 9,
   "id": "69e77a62-7b69-4c50-80e1-eb1ff6479bf8",
   "metadata": {},
   "outputs": [
    {
     "name": "stdout",
     "output_type": "stream",
     "text": [
      "[[[8.56656865e-02 8.62479460e-01 5.18548536e-02]\n",
      "  [9.50328754e-01 4.78058549e-02 1.86539116e-03]\n",
      "  [2.49748698e-01 7.13273298e-01 3.69780044e-02]]\n",
      "\n",
      " [[9.09754562e-02 8.57734618e-01 5.12899256e-02]\n",
      "  [9.47614788e-01 5.00678958e-02 2.31731570e-03]\n",
      "  [1.98638432e-01 7.59647628e-01 4.17139404e-02]]\n",
      "\n",
      " [[9.16106686e-02 8.59304489e-01 4.90848429e-02]\n",
      "  [9.41825601e-01 5.50315951e-02 3.14280376e-03]\n",
      "  [2.13937463e-01 7.35441882e-01 5.06206545e-02]]\n",
      "\n",
      " ...\n",
      "\n",
      " [[8.71938360e-02 8.64478923e-01 4.83272406e-02]\n",
      "  [9.55555288e-01 4.19951214e-02 2.44959079e-03]\n",
      "  [2.12445837e-01 7.22914425e-01 6.46397372e-02]]\n",
      "\n",
      " [[8.12183847e-02 8.71223713e-01 4.75579027e-02]\n",
      "  [9.47924861e-01 5.12464145e-02 8.28724036e-04]\n",
      "  [2.89526654e-01 6.41140652e-01 6.93326941e-02]]\n",
      "\n",
      " [[8.52587918e-02 8.63640109e-01 5.11010996e-02]\n",
      "  [9.53421954e-01 4.60436166e-02 5.34429677e-04]\n",
      "  [2.48472762e-01 7.08254797e-01 4.32724412e-02]]]\n"
     ]
    }
   ],
   "source": [
    "print(sampled_voting_prefs)"
   ]
  },
  {
   "cell_type": "code",
   "execution_count": 19,
   "id": "6bd827a6-961e-4640-a65c-89e8fdd65bb0",
   "metadata": {},
   "outputs": [],
   "source": [
    "import pymongo\n",
    "import json\n",
    "client = pymongo.MongoClient(\"mongodb://localhost:27017/\")\n",
    "db = client[\"cse416-rockets\"]\n",
    "collection = db[\"ecoInfData\"]\n",
    "arr = sampled_voting_prefs\n",
    "\n",
    "candidates = [\"Flowers\", \"Ivey\"]\n",
    "groups = [\"caucasian\", \"african american\", \"Other\"]\n",
    "\n",
    "for candidate_idx, candidate in enumerate(candidates):\n",
    "    for group_idx, group in enumerate(groups):\n",
    "        # Extracting data for the current candidate and demographic group\n",
    "        data = arr[:, group_idx, candidate_idx]\n",
    "        \n",
    "        # Creating JSON document\n",
    "        document = {\n",
    "            \"state\": \"ALABAMA\",\n",
    "            \"candidate\": candidate,\n",
    "            \"race\": group,\n",
    "            \"data\": data.tolist(),  # Converting numpy array to Python list\n",
    "            \"election\": \"Governor\"\n",
    "        }\n",
    "        \n",
    "        # Inserting document into MongoDB collection\n",
    "        collection.insert_one(document)\n"
   ]
  },
  {
   "cell_type": "code",
   "execution_count": 3,
   "id": "8b8fa558-2cf3-473c-9b09-4b7c8e1523e7",
   "metadata": {},
   "outputs": [
    {
     "name": "stdout",
     "output_type": "stream",
     "text": [
      "24145\n",
      "989948\n",
      "11\n",
      "36\n",
      "aa  143365\n",
      "eur 445626\n"
     ]
    }
   ],
   "source": [
    "import geopandas as gpd\n",
    "de_prec = gpd.read_file('DE_precincts.geojson')\n",
    "de_prec = de_prec[de_prec['TOTAL_REG'] != 0]\n",
    "de_districts = de_prec.dissolve(by='DISTRICT', aggfunc={\n",
    "    \"ETH1_EUR\": 'sum', \"ETH1_HISP\": 'sum', \"ETH1_AA\": 'sum', \"ETH1_ESA\": 'sum', \"ETH1_UNK\": 'sum',\n",
    "    \"VOTERS_GENDER_M\": 'sum', \"VOTERS_GENDER_F\": 'sum', \"VOTERS_GENDER_UNKNOWN\": 'sum', \"PARTY_DEM\": 'sum',\n",
    "    \"PARTY_REP\": 'sum', \"PARTY_OTHER\": 'sum', \"POPULATION\": 'sum'\n",
    "})\n",
    "ideal_pop = np.sum(de_districts['POPULATION'])/ 41\n",
    "print(int(ideal_pop))\n",
    "\n",
    "total_pop = np.sum(de_districts['POPULATION'])\n",
    "print(int(total_pop))\n",
    "\n",
    "minority_pop_aa = np.sum(de_districts['ETH1_AA'])\n",
    "minority_pop_eur = np.sum(de_districts['ETH1_EUR'])\n",
    "\n",
    "max_opp_districts_aa = minority_pop_aa / (.5 * ideal_pop)\n",
    "\n",
    "max_opp_districts_eur = minority_pop_eur / (.5 * ideal_pop)\n",
    "\n",
    "print(int(max_opp_districts_aa))\n",
    "print(int(max_opp_districts_eur))\n",
    "\n",
    "print(\"aa \",minority_pop_aa)\n",
    "print(\"eur\",minority_pop_eur)"
   ]
  },
  {
   "cell_type": "code",
   "execution_count": 4,
   "id": "1e333928-c42d-4538-bc61-a728a4d065a5",
   "metadata": {},
   "outputs": [
    {
     "name": "stdout",
     "output_type": "stream",
     "text": [
      "122543\n",
      "5024279\n",
      "15\n",
      "35\n",
      "aa  926476.0\n",
      "eur 2197450.0\n"
     ]
    }
   ],
   "source": [
    "import geopandas as gpd\n",
    "de_prec = gpd.read_file('AL_precincts.geojson')\n",
    "de_prec = de_prec[de_prec['TOTAL_REG'] != 0]\n",
    "de_districts = de_prec.dissolve(by='DISTRICT', aggfunc={\n",
    "    \"ETH1_EUR\": 'sum', \"ETH1_HISP\": 'sum', \"ETH1_AA\": 'sum', \"ETH1_ESA\": 'sum', \"ETH1_UNK\": 'sum',\n",
    "    \"VOTERS_GENDER_M\": 'sum', \"VOTERS_GENDER_F\": 'sum', \"VOTERS_GENDER_UNKNOWN\": 'sum', \"PARTY_DEM\": 'sum',\n",
    "    \"PARTY_REP\": 'sum', \"PARTY_OTHER\": 'sum', \"POPULATION\": 'sum'\n",
    "})\n",
    "ideal_pop = np.sum(de_districts['POPULATION'])/ 41\n",
    "print(int(ideal_pop))\n",
    "\n",
    "total_pop = np.sum(de_districts['POPULATION'])\n",
    "print(int(total_pop))\n",
    "\n",
    "minority_pop_aa = np.sum(de_districts['ETH1_AA'])\n",
    "minority_pop_eur = np.sum(de_districts['ETH1_EUR'])\n",
    "\n",
    "max_opp_districts_aa = minority_pop_aa / (.5 * ideal_pop)\n",
    "\n",
    "max_opp_districts_eur = minority_pop_eur / (.5 * ideal_pop)\n",
    "\n",
    "print(int(max_opp_districts_aa))\n",
    "print(int(max_opp_districts_eur))\n",
    "\n",
    "print(\"aa \",minority_pop_aa)\n",
    "print(\"eur\",minority_pop_eur)"
   ]
  },
  {
   "cell_type": "code",
   "execution_count": 4,
   "id": "8151ac61-608b-4f41-8d00-cbf940f80ca9",
   "metadata": {},
   "outputs": [],
   "source": [
    "# SOURCED FROM: https://github.com/jeffreyshen19/Seats-Votes-Curves/blob/master/generator/uniform_partisan_swing.py\n",
    "# MODIFIED FOR MINORITY GROUP INSTEAD OF POLITICAL\n",
    "\n",
    "import numpy as np\n",
    "import pandas as pd\n",
    "import matplotlib\n",
    "matplotlib.use('TkAgg')\n",
    "import matplotlib.pyplot as plt\n",
    "import random\n",
    "\n",
    "# Now you can import GeoPandas\n",
    "import geopandas as gpd\n",
    "\n",
    "\n",
    "def vote_seat_shares(districts):\n",
    "    votingByDistrict = []\n",
    "    seatsVotesWht = []\n",
    "    seatsVotesBlk = []\n",
    "\n",
    "    SWING_CONST = 0.01  # Percentage to increase each district by\n",
    "\n",
    "    total_votes = 0\n",
    "    total_blk_votes = 0\n",
    "    total_wht_votes = 0\n",
    "\n",
    "    # Read all district data\n",
    "    blk = np.sum(districts['ETH1_AA'])\n",
    "    wht = np.sum(districts['ETH1_EUR'])\n",
    "    total = wht + blk\n",
    "\n",
    "    total_votes += total\n",
    "    total_blk_votes += blk\n",
    "    total_wht_votes += wht\n",
    "    percentWht = float(wht) / total\n",
    "\n",
    "    votingByDistrict.append({\"percentWht\": percentWht, \"percentBlk\": 1.0 - percentWht})\n",
    "\n",
    "    WhtVoteShare = float(total_wht_votes) / total_votes\n",
    "    BlkVoteShare = float(total_blk_votes) / total_votes\n",
    "\n",
    "    diff = (((100 * WhtVoteShare) % 1) - ((100 * BlkVoteShare) % 1)) / 100  #\n",
    "\n",
    "    # Generate curve\n",
    "    i = WhtVoteShare\n",
    "    counter = 0\n",
    "    while i <= 1:\n",
    "        totalWhtSeats = 0\n",
    "        totalBlkSeats = 0\n",
    "        for j in range(0, 1000):  # simulate 1000 elections\n",
    "\n",
    "            districtOverflowedWht = [False] * len(votingByDistrict);\n",
    "            districtOverflowedBlk = [False] * len(votingByDistrict);\n",
    "            excessBlk = 0\n",
    "            excessWht = 0\n",
    "            updatedValsWht = [0] * len(votingByDistrict);\n",
    "            updatedValsBlk = [0] * len(votingByDistrict);\n",
    "\n",
    "            for k, district in enumerate(votingByDistrict):\n",
    "                updatedValsWht[k] = district[\"percentWht\"] + counter * SWING_CONST + SWING_CONST * random.randint(-5, 5)\n",
    "                updatedValsBlk[k] = 1 - updatedValsWht[k] + diff\n",
    "\n",
    "                if updatedValsWht[k] > 1:\n",
    "                    excessWht += 1\n",
    "                    districtOverflowedWht[k] = True\n",
    "\n",
    "                if updatedValsBlk[k] < 0:\n",
    "                    excessBlk += 1\n",
    "                    districtOverflowedBlk[k] = True\n",
    "\n",
    "            for k, district in enumerate(votingByDistrict):\n",
    "                # Overflow mechanic: distribute excess votes to the other districts\n",
    "                if districtOverflowedWht[k] is False:\n",
    "                    updatedValsWht[k] += SWING_CONST * (excessWht / (len(votingByDistrict) - excessWht))\n",
    "\n",
    "                if districtOverflowedBlk[k] is False:\n",
    "                    updatedValsBlk[k] -= SWING_CONST * (excessBlk / (len(votingByDistrict) - excessBlk))\n",
    "\n",
    "                if updatedValsWht[k] > 0.50:\n",
    "                    totalWhtSeats += 1\n",
    "                if updatedValsBlk[k] > 0.50:\n",
    "                    totalBlkSeats += 1\n",
    "\n",
    "        i += SWING_CONST\n",
    "        counter += 1\n",
    "\n",
    "        if i <= 1:\n",
    "            seatsVotesWht.append({\"seats\": float(totalWhtSeats) / (len(votingByDistrict) * 1000.0), \"votes\": i})\n",
    "            seatsVotesBlk.insert(0, {\"seats\": float(totalBlkSeats) / (len(votingByDistrict) * 1000.0),\n",
    "                                     \"votes\": 1 - i + diff})\n",
    "\n",
    "    i = BlkVoteShare\n",
    "    counter = 0\n",
    "\n",
    "    while i <= 1:\n",
    "        totalBlkSeats = 0\n",
    "        totalWhtSeats = 0\n",
    "\n",
    "        for j in range(0, 1000):  # simulate 1000 elections\n",
    "            districtOverflowedWht = [False] * len(votingByDistrict);\n",
    "            districtOverflowedBlk = [False] * len(votingByDistrict);\n",
    "            excessBlk = 0\n",
    "            excessWht = 0\n",
    "            updatedValsWht = [0] * len(votingByDistrict);\n",
    "            updatedValsBlk = [0] * len(votingByDistrict);\n",
    "\n",
    "            for k, district in enumerate(votingByDistrict):\n",
    "                updatedValsBlk[k] = district[\"percentBlk\"] + counter * SWING_CONST + SWING_CONST * random.randint(-5,\n",
    "                                                                                                                  5) + diff\n",
    "                updatedValsWht[k] = 1 - (updatedValsBlk[k] - diff)\n",
    "\n",
    "                if updatedValsWht[k] > 1:\n",
    "                    excessWht += 1\n",
    "                    districtOverflowedWht[k] = True\n",
    "\n",
    "                if updatedValsBlk[k] < 0:\n",
    "                    excessBlk += 1\n",
    "                    districtOverflowedBlk[k] = True\n",
    "\n",
    "            for k, district in enumerate(votingByDistrict):\n",
    "                # Overflow mechanic: distribute excess votes to the other districts\n",
    "                if districtOverflowedWht[k] is False:\n",
    "                    updatedValsWht[k] -= SWING_CONST * (excessWht / (len(votingByDistrict) - excessWht))\n",
    "\n",
    "                if districtOverflowedBlk[k] is False:\n",
    "                    updatedValsBlk[k] += SWING_CONST * (excessBlk / (len(votingByDistrict) - excessBlk))\n",
    "\n",
    "                if updatedValsWht[k] > 0.50:\n",
    "                    totalWhtSeats += 1\n",
    "                if updatedValsBlk[k] > 0.50:\n",
    "                    totalBlkSeats += 1\n",
    "\n",
    "        i += SWING_CONST\n",
    "        counter += 1\n",
    "\n",
    "        if i <= 1:\n",
    "            seatsVotesBlk.append({\"seats\": float(totalBlkSeats) / (len(votingByDistrict) * 1000.0), \"votes\": i + diff})\n",
    "            seatsVotesWht.insert(0, {\"seats\": float(totalWhtSeats) / (len(votingByDistrict) * 1000.0), \"votes\": 1 - i})\n",
    "\n",
    "    # Add endpoints\n",
    "    seatsVotesWht.insert(0, {\"seats\": 0, \"votes\": 0})\n",
    "    seatsVotesBlk.insert(0, {\"seats\": 0, \"votes\": 0})\n",
    "    seatsVotesWht.append({\"seats\": 1, \"votes\": 1})\n",
    "    seatsVotesBlk.append({\"seats\": 1, \"votes\": 1})\n",
    "    \n",
    "    return seatsVotesWht, seatsVotesBlk\n",
    "    \n",
    "if __name__ == '__main__':\n",
    "    de_prec = gpd.read_file('DE_precincts.geojson')\n",
    "    de_prec = de_prec[de_prec['TOTAL_REG'] != 0]\n",
    "    de_districts = de_prec.dissolve(by='DISTRICT', aggfunc={\n",
    "        \"ETH1_EUR\": 'sum', \"ETH1_HISP\": 'sum', \"ETH1_AA\": 'sum', \"ETH1_ESA\": 'sum', \"ETH1_UNK\": 'sum',\n",
    "        \"VOTERS_GENDER_M\": 'sum', \"VOTERS_GENDER_F\": 'sum', \"VOTERS_GENDER_UNKNOWN\": 'sum', \"PARTY_DEM\": 'sum',\n",
    "        \"PARTY_REP\": 'sum', \"PARTY_OTHER\": 'sum', \"POPULATION\": 'sum'\n",
    "    })\n",
    "\n",
    "    de_wht_arr, de_blk_arr = vote_seat_shares(de_districts)\n",
    "\n",
    "    # Plotting\n",
    "    votes_blk = [entry['votes'] for entry in de_blk_arr]\n",
    "\n",
    "    # Extracting just the 'seats'\n",
    "    seats_blk = [entry['seats'] for entry in de_blk_arr]\n",
    "\n",
    "    votes_wht = [entry['votes'] for entry in de_wht_arr]\n",
    "\n",
    "    # Extracting just the 'seats'\n",
    "    seats_wht = [entry['seats'] for entry in de_wht_arr]\n",
    "    \n",
    "    plt.plot(votes_blk, seats_blk, color='blue', label='Black')\n",
    "    plt.plot(votes_wht, seats_wht, color='red', label='White')\n",
    "\n",
    "    # Adding labels and title\n",
    "    plt.xlabel('Vote Share')\n",
    "    plt.ylabel('Seat Share')\n",
    "    plt.title('Vote Seat Share')\n",
    "    plt.legend()\n",
    "\n",
    "    plt.ylim(0, 1)\n",
    "\n",
    "    # Displaying the plot\n",
    "    plt.show()\n"
   ]
  },
  {
   "cell_type": "code",
   "execution_count": 1,
   "id": "5fcf4372-8b53-402d-b8c1-f0376116a0e1",
   "metadata": {},
   "outputs": [],
   "source": [
    "# SOURCED FROM: https://github.com/jeffreyshen19/Seats-Votes-Curves/blob/master/generator/uniform_partisan_swing.py\n",
    "# MODIFIED FOR MINORITY GROUP INSTEAD OF POLITICAL\n",
    "\n",
    "import numpy as np\n",
    "import pandas as pd\n",
    "import matplotlib\n",
    "\n",
    "matplotlib.use('TkAgg')\n",
    "import matplotlib.pyplot as plt\n",
    "import random\n",
    "\n",
    "# Now you can import GeoPandas\n",
    "import geopandas as gpd\n",
    "\n",
    "\n",
    "def vote_seat_shares(districts):\n",
    "    votingByDistrict = []\n",
    "    seatsVotesWht = []\n",
    "    seatsVotesBlk = []\n",
    "\n",
    "    SWING_CONST = 0.001  # Percentage to increase each district by\n",
    "\n",
    "    total_votes = 0\n",
    "    total_blk_votes = 0\n",
    "    total_wht_votes = 0\n",
    "\n",
    "    # Read all district data\n",
    "    blk = np.sum(districts['ETH1_AA'])\n",
    "    wht = np.sum(districts['ETH1_EUR'])\n",
    "    total = wht + blk\n",
    "\n",
    "    total_votes += total\n",
    "    total_blk_votes += blk\n",
    "    total_wht_votes += wht\n",
    "    percentWht = float(wht) / total\n",
    "    percentBlk = float(blk) / total\n",
    "\n",
    "    votingByDistrict.append({\"percentWht\": percentWht, \"percentBlk\": percentBlk})\n",
    "\n",
    "    WhtVoteShare = float(total_wht_votes) / total_votes\n",
    "    BlkVoteShare = float(total_blk_votes) / total_votes\n",
    "\n",
    "    diff = (((100 * WhtVoteShare) % 1) - ((100 * BlkVoteShare) % 1)) / 100  #\n",
    "\n",
    "    # Generate curve\n",
    "    i = WhtVoteShare\n",
    "    counter = 0\n",
    "    while i <= 1:\n",
    "        totalWhtSeats = 0\n",
    "        totalBlkSeats = 0\n",
    "        for j in range(0, 1000):  # simulate 1000 elections\n",
    "\n",
    "            districtOverflowedWht = [False] * len(votingByDistrict);\n",
    "            districtOverflowedBlk = [False] * len(votingByDistrict);\n",
    "            excessBlk = 0\n",
    "            excessWht = 0\n",
    "            updatedValsWht = [0] * len(votingByDistrict);\n",
    "            updatedValsBlk = [0] * len(votingByDistrict);\n",
    "\n",
    "            for k, district in enumerate(votingByDistrict):\n",
    "                updatedValsWht[k] = district[\"percentWht\"] + counter * SWING_CONST + \\\n",
    "                                    SWING_CONST * random.randint(-5, 5)\n",
    "                updatedValsBlk[k] = 1 - updatedValsWht[k] + diff\n",
    "\n",
    "                if updatedValsWht[k] > 1:\n",
    "                    excessWht += 1\n",
    "                    districtOverflowedWht[k] = True\n",
    "\n",
    "                if updatedValsBlk[k] < 0:\n",
    "                    excessBlk += 1\n",
    "                    districtOverflowedBlk[k] = True\n",
    "\n",
    "            for k, district in enumerate(votingByDistrict):\n",
    "                # Overflow mechanic: distribute excess votes to the other districts\n",
    "                if districtOverflowedWht[k] is False:\n",
    "                    updatedValsWht[k] += SWING_CONST * (excessWht / (len(votingByDistrict) - excessWht))\n",
    "\n",
    "                if districtOverflowedBlk[k] is False:\n",
    "                    updatedValsBlk[k] -= SWING_CONST * (excessBlk / (len(votingByDistrict) - excessBlk))\n",
    "\n",
    "                if updatedValsWht[k] > 0.50:\n",
    "                    totalWhtSeats += 1\n",
    "                if updatedValsBlk[k] > 0.50:\n",
    "                    totalBlkSeats += 1\n",
    "\n",
    "        i += SWING_CONST\n",
    "        counter += 1\n",
    "\n",
    "        if i <= 1:\n",
    "            seatsVotesWht.append({\"seats\": float(totalWhtSeats) / (len(votingByDistrict) * 1000.0), \"votes\": i})\n",
    "            seatsVotesBlk.insert(0, {\"seats\": float(totalBlkSeats) / (len(votingByDistrict) * 1000.0),\n",
    "                                     \"votes\": 1 - i + diff})\n",
    "\n",
    "    i = BlkVoteShare\n",
    "    counter = 0\n",
    "\n",
    "    while i <= 1:\n",
    "        totalBlkSeats = 0\n",
    "        totalWhtSeats = 0\n",
    "\n",
    "        for j in range(0, 1000):  # simulate 1000 elections\n",
    "            districtOverflowedWht = [False] * len(votingByDistrict);\n",
    "            districtOverflowedBlk = [False] * len(votingByDistrict);\n",
    "            excessBlk = 0\n",
    "            excessWht = 0\n",
    "            updatedValsWht = [0] * len(votingByDistrict);\n",
    "            updatedValsBlk = [0] * len(votingByDistrict);\n",
    "\n",
    "            for k, district in enumerate(votingByDistrict):\n",
    "                updatedValsBlk[k] = district[\"percentBlk\"] + counter * SWING_CONST + \\\n",
    "                                    SWING_CONST * random.randint(-5,5) + diff\n",
    "                updatedValsWht[k] = 1 - (updatedValsBlk[k] - diff)\n",
    "\n",
    "                if updatedValsWht[k] > 1:\n",
    "                    excessWht += 1\n",
    "                    districtOverflowedWht[k] = True\n",
    "\n",
    "                if updatedValsBlk[k] < 0:\n",
    "                    excessBlk += 1\n",
    "                    districtOverflowedBlk[k] = True\n",
    "\n",
    "            for k, district in enumerate(votingByDistrict):\n",
    "                # Overflow mechanic: distribute excess votes to the other districts\n",
    "                if districtOverflowedWht[k] is False:\n",
    "                    updatedValsWht[k] -= SWING_CONST * (excessWht / (len(votingByDistrict) - excessWht))\n",
    "\n",
    "                if districtOverflowedBlk[k] is False:\n",
    "                    updatedValsBlk[k] += SWING_CONST * (excessBlk / (len(votingByDistrict) - excessBlk))\n",
    "\n",
    "                if updatedValsWht[k] > 0.50:\n",
    "                    totalWhtSeats += 1\n",
    "                if updatedValsBlk[k] > 0.50:\n",
    "                    totalBlkSeats += 1\n",
    "\n",
    "        i += SWING_CONST\n",
    "        counter += 1\n",
    "\n",
    "        if i <= 1:\n",
    "            seatsVotesBlk.append({\"seats\": float(totalBlkSeats) / (len(votingByDistrict) * 1000.0), \n",
    "                                  \"votes\": i + diff})\n",
    "            seatsVotesWht.insert(0, {\"seats\": float(totalWhtSeats) / (len(votingByDistrict) * 1000.0), \n",
    "                                     \"votes\": 1 - i})\n",
    "\n",
    "    # Add endpoints\n",
    "    seatsVotesWht.insert(0, {\"seats\": 0, \"votes\": 0})\n",
    "    seatsVotesBlk.insert(0, {\"seats\": 0, \"votes\": 0})\n",
    "    seatsVotesWht.append({\"seats\": 1, \"votes\": 1})\n",
    "    seatsVotesBlk.append({\"seats\": 1, \"votes\": 1})\n",
    "\n",
    "    return seatsVotesWht, seatsVotesBlk\n",
    "\n",
    "\n",
    "if __name__ == '__main__':\n",
    "    de_prec = gpd.read_file('DE_precincts.geojson')\n",
    "    de_prec = de_prec[de_prec['TOTAL_REG'] != 0]\n",
    "    de_districts = de_prec.dissolve(by='DISTRICT', aggfunc={\n",
    "        \"ETH1_EUR\": 'sum', \"ETH1_HISP\": 'sum', \"ETH1_AA\": 'sum', \"ETH1_ESA\": 'sum', \"ETH1_UNK\": 'sum',\n",
    "        \"VOTERS_GENDER_M\": 'sum', \"VOTERS_GENDER_F\": 'sum', \"VOTERS_GENDER_UNKNOWN\": 'sum', \"PARTY_DEM\": 'sum',\n",
    "        \"PARTY_REP\": 'sum', \"PARTY_OTHER\": 'sum', \"POPULATION\": 'sum'\n",
    "    })\n",
    "\n",
    "    de_wht_arr, de_blk_arr = vote_seat_shares(de_districts)\n",
    "\n",
    "    # extracting data\n",
    "    votes_blk = [entry['votes'] for entry in de_blk_arr]\n",
    "    seats_blk = [entry['seats'] for entry in de_blk_arr]\n",
    "\n",
    "    # extracting data\n",
    "    votes_wht = [entry['votes'] for entry in de_wht_arr]\n",
    "    seats_wht = [entry['seats'] for entry in de_wht_arr]\n",
    "\n",
    "    plt.plot(votes_blk, seats_blk, color='blue', label='Black')\n",
    "    plt.plot(votes_wht, seats_wht, color='red', label='White')\n",
    "\n",
    "    # Adding labels and title\n",
    "    plt.xlabel('Vote Share')\n",
    "    plt.ylabel('Seat Share')\n",
    "    plt.title('Vote Seat Share')\n",
    "    plt.legend()\n",
    "\n",
    "    plt.ylim(0, 1)\n",
    "\n",
    "    # Displaying the plot\n",
    "    plt.show()\n"
   ]
  },
  {
   "cell_type": "code",
   "execution_count": null,
   "id": "4e96e6f4-675f-4da5-94aa-6ed43f56bdff",
   "metadata": {},
   "outputs": [],
   "source": []
  }
 ],
 "metadata": {
  "kernelspec": {
   "display_name": "Python 3 (ipykernel)",
   "language": "python",
   "name": "python3"
  },
  "language_info": {
   "codemirror_mode": {
    "name": "ipython",
    "version": 3
   },
   "file_extension": ".py",
   "mimetype": "text/x-python",
   "name": "python",
   "nbconvert_exporter": "python",
   "pygments_lexer": "ipython3",
   "version": "3.11.0"
  }
 },
 "nbformat": 4,
 "nbformat_minor": 5
}
